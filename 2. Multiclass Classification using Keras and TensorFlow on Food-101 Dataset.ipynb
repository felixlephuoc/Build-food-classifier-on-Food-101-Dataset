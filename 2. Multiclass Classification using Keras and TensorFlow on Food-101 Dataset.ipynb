{
 "cells": [
  {
   "cell_type": "markdown",
   "metadata": {},
   "source": [
    "## Multiclass Classification using Keras and TensorFlow on Food-101 Dataset"
   ]
  },
  {
   "cell_type": "markdown",
   "metadata": {},
   "source": [
    "### Overview\n",
    "\n",
    "\n",
    "   * Download and extract Food 101 dataset\n",
    "   * Understand dataset structure and files\n",
    "   * Visualize random image from each of the 101 classes\n",
    "   * Split the image data into train and test using train.txt and test.txt\n",
    "   * Create a subset of data with few classes(3) - train_mini and test_mini for experimenting\n",
    "   * Fine tune Inception Pretrained model using Food 101 dataset\n",
    "   * Visualize accuracy and loss plots\n",
    "   * Predicting classes for new images from internet\n",
    "   * Scale up and fine tune Inceptionv3 model with 11 classes of data\n",
    "   * Model Explainability\n",
    "   * Summary of the things I tried\n",
    "   * Further improvements\n",
    "   * Feedback\n"
   ]
  },
  {
   "cell_type": "code",
   "execution_count": 1,
   "metadata": {},
   "outputs": [
    {
     "name": "stderr",
     "output_type": "stream",
     "text": [
      "/usr/local/lib/python2.7/dist-packages/h5py/__init__.py:36: FutureWarning: Conversion of the second argument of issubdtype from `float` to `np.floating` is deprecated. In future, it will be treated as `np.float64 == np.dtype(float).type`.\n",
      "  from ._conv import register_converters as _register_converters\n",
      "Using TensorFlow backend.\n"
     ]
    }
   ],
   "source": [
    "import tensorflow as tf\n",
    "import matplotlib.image as img\n",
    "%matplotlib inline\n",
    "import numpy as np\n",
    "from collections import defaultdict\n",
    "import collections\n",
    "from shutil import copy\n",
    "from shutil import copytree, rmtree\n",
    "import keras.backend as K\n",
    "from keras.models import load_model\n",
    "from keras.preprocessing import image\n",
    "import matplotlib.pyplot as plt\n",
    "import numpy as np\n",
    "import os\n",
    "import random\n",
    "from keras import regularizers\n",
    "from keras.applications.inception_v3 import InceptionV3\n",
    "from keras.models import Sequential, Model\n",
    "from keras.layers import Dense, Dropout, Activation, Flatten\n",
    "from keras.layers import Convolution2D, MaxPooling2D, ZeroPadding2D, GlobalAveragePooling2D, AveragePooling2D\n",
    "from keras.preprocessing.image import ImageDataGenerator\n",
    "from keras.callbacks import ModelCheckpoint, CSVLogger\n",
    "from keras.optimizers import SGD\n",
    "from keras.regularizers import l2\n",
    "from tensorflow import keras\n",
    "from keras import models\n",
    "import cv2"
   ]
  },
  {
   "cell_type": "markdown",
   "metadata": {},
   "source": [
    "#### Check if GPU is enabled"
   ]
  },
  {
   "cell_type": "code",
   "execution_count": 2,
   "metadata": {},
   "outputs": [
    {
     "name": "stdout",
     "output_type": "stream",
     "text": [
      "1.8.0\n",
      "/device:GPU:0\n"
     ]
    }
   ],
   "source": [
    "# Check if GPU is enabled\n",
    "import tensorflow as tf\n",
    "print(tf.__version__)\n",
    "print(tf.test.gpu_device_name())"
   ]
  },
  {
   "cell_type": "code",
   "execution_count": 4,
   "metadata": {},
   "outputs": [
    {
     "name": "stdout",
     "output_type": "stream",
     "text": [
      "[[22. 28.]\n",
      " [49. 64.]]\n"
     ]
    }
   ],
   "source": [
    "import tensorflow as tf\n",
    "with tf.device('/gpu:0'):\n",
    "    a = tf.constant([1.0, 2.0, 3.0, 4.0, 5.0, 6.0], shape=[2, 3], name='a')\n",
    "    b = tf.constant([1.0, 2.0, 3.0, 4.0, 5.0, 6.0], shape=[3, 2], name='b')\n",
    "    c = tf.matmul(a, b)\n",
    "\n",
    "with tf.Session() as sess:\n",
    "    print (sess.run(c))"
   ]
  },
  {
   "cell_type": "markdown",
   "metadata": {},
   "source": [
    "### Download and Extract Food 101 Dataset"
   ]
  },
  {
   "cell_type": "code",
   "execution_count": 5,
   "metadata": {},
   "outputs": [],
   "source": [
    "# Helper function to download data and extract\n",
    "def get_data_extract():\n",
    "    if \"food_101\" in os.listdir(\".\"):\n",
    "        print(\"Dataset already exists\")\n",
    "    else:\n",
    "        print(\"Downloading the data...\")\n",
    "        !wget http://data.vision.ee.ethz.ch/cvl/food-101.tar.gz\n",
    "        print(\"Dataset downloaded\")\n",
    "        print(\"Extracting data..\")\n",
    "        !tar xzvf food-101.tar.gz | head -10\n",
    "        print(\"Extraction done!\")"
   ]
  },
  {
   "cell_type": "code",
   "execution_count": 7,
   "metadata": {
    "scrolled": true
   },
   "outputs": [
    {
     "name": "stdout",
     "output_type": "stream",
     "text": [
      "Downloading the data...\n",
      "--2020-04-04 07:40:47--  http://data.vision.ee.ethz.ch/cvl/food-101.tar.gz\n",
      "Resolving data.vision.ee.ethz.ch (data.vision.ee.ethz.ch)... 129.132.52.162\n",
      "Connecting to data.vision.ee.ethz.ch (data.vision.ee.ethz.ch)|129.132.52.162|:80... connected.\n",
      "HTTP request sent, awaiting response... 302 Found\n",
      "Location: https://data.vision.ee.ethz.ch/cvl/food-101.tar.gz [following]\n",
      "--2020-04-04 07:40:48--  https://data.vision.ee.ethz.ch/cvl/food-101.tar.gz\n",
      "Connecting to data.vision.ee.ethz.ch (data.vision.ee.ethz.ch)|129.132.52.162|:443... connected.\n",
      "HTTP request sent, awaiting response... 200 OK\n",
      "Length: 4996278331 (4.7G) [application/x-gzip]\n",
      "Saving to: 'food-101.tar.gz.1'\n",
      "\n",
      "food-101.tar.gz.1   100%[===================>]   4.65G  12.7MB/s    in 6m 34s  \n",
      "\n",
      "2020-04-04 07:47:23 (12.1 MB/s) - 'food-101.tar.gz.1' saved [4996278331/4996278331]\n",
      "\n",
      "Dataset downloaded\n",
      "Extracting data..\n",
      "food-101/\n",
      "food-101/images/\n",
      "food-101/images/beignets/\n",
      "food-101/images/beignets/2885220.jpg\n",
      "food-101/images/beignets/1814040.jpg\n",
      "food-101/images/beignets/81202.jpg\n",
      "food-101/images/beignets/1827892.jpg\n",
      "food-101/images/beignets/2802124.jpg\n",
      "food-101/images/beignets/2192983.jpg\n",
      "food-101/images/beignets/250043.jpg\n",
      "\n",
      "gzip: stdin: unexpected end of file\n",
      "tar: Unexpected EOF in archive\n",
      "tar: Unexpected EOF in archive\n",
      "tar: Error is not recoverable: exiting now\n",
      "Extraction done!\n"
     ]
    }
   ],
   "source": [
    "get_data_extract() # showing only the first few lines of extracting"
   ]
  },
  {
   "cell_type": "markdown",
   "metadata": {},
   "source": [
    "### Understand dataset structure and files"
   ]
  },
  {
   "cell_type": "code",
   "execution_count": null,
   "metadata": {},
   "outputs": [],
   "source": [
    "# Check the extracted dataset folder\n",
    "!ls food-101"
   ]
  },
  {
   "cell_type": "code",
   "execution_count": null,
   "metadata": {},
   "outputs": [],
   "source": []
  },
  {
   "cell_type": "code",
   "execution_count": null,
   "metadata": {},
   "outputs": [],
   "source": []
  },
  {
   "cell_type": "code",
   "execution_count": null,
   "metadata": {},
   "outputs": [],
   "source": []
  },
  {
   "cell_type": "code",
   "execution_count": null,
   "metadata": {},
   "outputs": [],
   "source": []
  }
 ],
 "metadata": {
  "kernelspec": {
   "display_name": "Python 2",
   "language": "python",
   "name": "python2"
  },
  "language_info": {
   "codemirror_mode": {
    "name": "ipython",
    "version": 2
   },
   "file_extension": ".py",
   "mimetype": "text/x-python",
   "name": "python",
   "nbconvert_exporter": "python",
   "pygments_lexer": "ipython2",
   "version": "2.7.12"
  }
 },
 "nbformat": 4,
 "nbformat_minor": 2
}
